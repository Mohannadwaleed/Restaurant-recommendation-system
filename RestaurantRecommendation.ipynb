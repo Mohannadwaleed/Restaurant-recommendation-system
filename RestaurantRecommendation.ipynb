{
  "nbformat": 4,
  "nbformat_minor": 0,
  "metadata": {
    "colab": {
      "provenance": []
    },
    "kernelspec": {
      "name": "python3",
      "display_name": "Python 3"
    },
    "language_info": {
      "name": "python"
    }
  },
  "cells": [
    {
      "cell_type": "code",
      "execution_count": 1,
      "metadata": {
        "id": "STsAqZoqHZW2"
      },
      "outputs": [],
      "source": [
        "import numpy as np\n",
        "import pandas as pd\n",
        "from sklearn.feature_extraction import text\n",
        "from sklearn.metrics.pairwise import cosine_similarity\n",
        "from sklearn.metrics.pairwise import cosine_similarity\n",
        "from sklearn.preprocessing import StandardScaler, OneHotEncoder\n",
        "from sklearn.feature_extraction.text import TfidfVectorizer"
      ]
    },
    {
      "cell_type": "code",
      "source": [
        "data = pd.read_csv(\"TripAdvisor_RestauarantRecommendation.csv\")\n",
        "print(data.head())"
      ],
      "metadata": {
        "colab": {
          "base_uri": "https://localhost:8080/"
        },
        "id": "ZRle4A8vHnfJ",
        "outputId": "cebb4a57-89b8-4216-ff69-57c1a9624020"
      },
      "execution_count": 2,
      "outputs": [
        {
          "output_type": "stream",
          "name": "stdout",
          "text": [
            "                            Name       Street Address  \\\n",
            "0  Betty Lou's Seafood and Grill     318 Columbus Ave   \n",
            "1              Coach House Diner        55 State Rt 4   \n",
            "2               Table Talk Diner  2521 South Rd Ste C   \n",
            "3                    Sixty Vines     3701 Dallas Pkwy   \n",
            "4                   The Clam Bar    3914 Brewerton Rd   \n",
            "\n",
            "                       Location                                          Type  \\\n",
            "0  San Francisco, CA 94133-3908   Seafood, Vegetarian Friendly, Vegan Options   \n",
            "1     Hackensack, NJ 07601-6337          Diner, American, Vegetarian Friendly   \n",
            "2   Poughkeepsie, NY 12601-5476          American, Diner, Vegetarian Friendly   \n",
            "3          Plano, TX 75093-7777       American, Wine Bar, Vegetarian Friendly   \n",
            "4            Syracuse, NY 13212                        American, Bar, Seafood   \n",
            "\n",
            "            Reviews No of Reviews  \\\n",
            "0  4.5 of 5 bubbles   243 reviews   \n",
            "1    4 of 5 bubbles    84 reviews   \n",
            "2    4 of 5 bubbles   256 reviews   \n",
            "3  4.5 of 5 bubbles   235 reviews   \n",
            "4    4 of 5 bubbles   285 reviews   \n",
            "\n",
            "                                            Comments   Contact Number  \\\n",
            "0                                                NaN  +1 415-757-0569   \n",
            "1  Both times we were there very late, after 11 P...  +1 201-488-4999   \n",
            "2  Waitress was very friendly but a little pricey...  +1 845-849-2839   \n",
            "3  Not sure why I went there for the second time....  +1 469-620-8463   \n",
            "4  Doesn't look like much from the outside but wa...  +1 315-458-1662   \n",
            "\n",
            "                                    Trip_advisor Url  \\\n",
            "0  https://www.tripadvisor.com//Restaurant_Review...   \n",
            "1  https://www.tripadvisor.com//Restaurant_Review...   \n",
            "2  https://www.tripadvisor.com//Restaurant_Review...   \n",
            "3  https://www.tripadvisor.com//Restaurant_Review...   \n",
            "4  https://www.tripadvisor.com//Restaurant_Review...   \n",
            "\n",
            "                                        Menu Price_Range  \n",
            "0               Check The Website for a Menu    $$ - $$$  \n",
            "1               Check The Website for a Menu    $$ - $$$  \n",
            "2  http://tabletalkdiner.com/menu/breakfast/    $$ - $$$  \n",
            "3      https://sixtyvines.com/menu/plano-tx/    $$ - $$$  \n",
            "4               Check The Website for a Menu    $$ - $$$  \n"
          ]
        }
      ]
    },
    {
      "cell_type": "code",
      "source": [
        "data.info()\n",
        "data.drop(['Contact Number','Price_Range'],axis=1)\n",
        "print(data.columns)"
      ],
      "metadata": {
        "colab": {
          "base_uri": "https://localhost:8080/"
        },
        "id": "gqbq8mcXHnWk",
        "outputId": "d724f5bc-a031-4bcc-aba5-687f89e97358"
      },
      "execution_count": 3,
      "outputs": [
        {
          "output_type": "stream",
          "name": "stdout",
          "text": [
            "<class 'pandas.core.frame.DataFrame'>\n",
            "RangeIndex: 3062 entries, 0 to 3061\n",
            "Data columns (total 11 columns):\n",
            " #   Column            Non-Null Count  Dtype \n",
            "---  ------            --------------  ----- \n",
            " 0   Name              3062 non-null   object\n",
            " 1   Street Address    3062 non-null   object\n",
            " 2   Location          3062 non-null   object\n",
            " 3   Type              3049 non-null   object\n",
            " 4   Reviews           3062 non-null   object\n",
            " 5   No of Reviews     3062 non-null   object\n",
            " 6   Comments          2447 non-null   object\n",
            " 7   Contact Number    3062 non-null   object\n",
            " 8   Trip_advisor Url  3062 non-null   object\n",
            " 9   Menu              3062 non-null   object\n",
            " 10  Price_Range       3062 non-null   object\n",
            "dtypes: object(11)\n",
            "memory usage: 263.3+ KB\n",
            "Index(['Name', 'Street Address', 'Location', 'Type', 'Reviews',\n",
            "       'No of Reviews', 'Comments', 'Contact Number', 'Trip_advisor Url',\n",
            "       'Menu', 'Price_Range'],\n",
            "      dtype='object')\n"
          ]
        }
      ]
    },
    {
      "cell_type": "code",
      "source": [
        "data = data[[\"Name\", \"Type\",\"Reviews\"]]\n",
        "print(data.head())"
      ],
      "metadata": {
        "colab": {
          "base_uri": "https://localhost:8080/"
        },
        "id": "0AbCqfqoHnUJ",
        "outputId": "3974102d-d14a-44b5-a3a9-e780947c8005"
      },
      "execution_count": 4,
      "outputs": [
        {
          "output_type": "stream",
          "name": "stdout",
          "text": [
            "                            Name  \\\n",
            "0  Betty Lou's Seafood and Grill   \n",
            "1              Coach House Diner   \n",
            "2               Table Talk Diner   \n",
            "3                    Sixty Vines   \n",
            "4                   The Clam Bar   \n",
            "\n",
            "                                           Type           Reviews  \n",
            "0   Seafood, Vegetarian Friendly, Vegan Options  4.5 of 5 bubbles  \n",
            "1          Diner, American, Vegetarian Friendly    4 of 5 bubbles  \n",
            "2          American, Diner, Vegetarian Friendly    4 of 5 bubbles  \n",
            "3       American, Wine Bar, Vegetarian Friendly  4.5 of 5 bubbles  \n",
            "4                        American, Bar, Seafood    4 of 5 bubbles  \n"
          ]
        }
      ]
    },
    {
      "cell_type": "code",
      "source": [
        "print(data.isnull().sum())"
      ],
      "metadata": {
        "colab": {
          "base_uri": "https://localhost:8080/"
        },
        "id": "PCG0vXt9HnRf",
        "outputId": "517c0def-9b9e-416a-9245-efc67d020f8b"
      },
      "execution_count": 5,
      "outputs": [
        {
          "output_type": "stream",
          "name": "stdout",
          "text": [
            "Name        0\n",
            "Type       13\n",
            "Reviews     0\n",
            "dtype: int64\n"
          ]
        }
      ]
    },
    {
      "cell_type": "code",
      "source": [
        "data = data.dropna()\n",
        "print(data.isnull().sum())"
      ],
      "metadata": {
        "colab": {
          "base_uri": "https://localhost:8080/"
        },
        "id": "Ez8BiaY8HnOx",
        "outputId": "1816527d-8453-44bb-ad74-943fc064ddc8"
      },
      "execution_count": 6,
      "outputs": [
        {
          "output_type": "stream",
          "name": "stdout",
          "text": [
            "Name       0\n",
            "Type       0\n",
            "Reviews    0\n",
            "dtype: int64\n"
          ]
        }
      ]
    },
    {
      "cell_type": "code",
      "source": [
        "data['Reviews'].unique()"
      ],
      "metadata": {
        "colab": {
          "base_uri": "https://localhost:8080/"
        },
        "id": "TurRfY30HnL8",
        "outputId": "6814ebf1-a28c-4312-9204-d3e9b632a9d3"
      },
      "execution_count": 7,
      "outputs": [
        {
          "output_type": "execute_result",
          "data": {
            "text/plain": [
              "array(['4.5 of 5 bubbles', '4 of 5 bubbles', '5 of 5 bubbles',\n",
              "       '3.5 of 5 bubbles', '3 of 5 bubbles'], dtype=object)"
            ]
          },
          "metadata": {},
          "execution_count": 7
        }
      ]
    },
    {
      "cell_type": "code",
      "source": [
        "tfidf_vectorizer = TfidfVectorizer(stop_words='english')"
      ],
      "metadata": {
        "id": "T5Z-r3uiHnGi"
      },
      "execution_count": 8,
      "outputs": []
    },
    {
      "cell_type": "code",
      "source": [
        "tfidf_matrix = tfidf_vectorizer.fit_transform(data['Type'])\n",
        "print(tfidf_matrix.shape)"
      ],
      "metadata": {
        "colab": {
          "base_uri": "https://localhost:8080/"
        },
        "id": "LJAWyDBsHm9V",
        "outputId": "1cad0d18-3041-4837-e3e9-6984115240e0"
      },
      "execution_count": 9,
      "outputs": [
        {
          "output_type": "stream",
          "name": "stdout",
          "text": [
            "(3049, 112)\n"
          ]
        }
      ]
    },
    {
      "cell_type": "code",
      "source": [
        "similarity = cosine_similarity(tfidf_matrix)"
      ],
      "metadata": {
        "id": "FUufuKnpH21r"
      },
      "execution_count": 10,
      "outputs": []
    },
    {
      "cell_type": "code",
      "source": [
        "indices = pd.Series(data.index, index=data['Name']).drop_duplicates()"
      ],
      "metadata": {
        "id": "V5T3NUU4H4wx"
      },
      "execution_count": 11,
      "outputs": []
    },
    {
      "cell_type": "code",
      "source": [
        "def restaurant_recommendation(name, similarity = similarity):\n",
        "    index = indices[name]\n",
        "    similarity_scores = list(enumerate(similarity[index]))\n",
        "    similarity_scores = sorted(similarity_scores, key=lambda x: x[1], reverse=True)\n",
        "    similarity_scores = similarity_scores[0:10]\n",
        "    restaurantindices = [i[0] for i in similarity_scores]\n",
        "    return data['Name'].iloc[restaurantindices]\n",
        "\n",
        "Recommended_restaurant = input(\"Enter a restaurant name: \")\n",
        "print(restaurant_recommendation(Recommended_restaurant))"
      ],
      "metadata": {
        "colab": {
          "base_uri": "https://localhost:8080/"
        },
        "id": "NJ8Ah46SH4rP",
        "outputId": "c68d42d1-a370-466a-bc42-9829ffd17735"
      },
      "execution_count": 12,
      "outputs": [
        {
          "output_type": "stream",
          "name": "stdout",
          "text": [
            "Enter a restaurant name: Market Grill\n",
            "23                   The Lion's Share\n",
            "154                        Houlihan's\n",
            "518            Midgley's Public House\n",
            "568                 Aspen Creek Grill\n",
            "770              Pete's Sunset Grille\n",
            "1190     Paul Martin's American Grill\n",
            "1581                   Aviation Grill\n",
            "1872                   Aviation Grill\n",
            "2193                Crest Bar & Grill\n",
            "2612    Tahoe Joe's Famous Steakhouse\n",
            "Name: Name, dtype: object\n"
          ]
        }
      ]
    }
  ]
}